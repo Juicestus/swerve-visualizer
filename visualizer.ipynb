{
 "cells": [
  {
   "cell_type": "code",
   "execution_count": 1,
   "id": "pointed-carrier",
   "metadata": {},
   "outputs": [],
   "source": [
    "import numpy as np\n",
    "import math\n",
    "import matplotlib.pyplot as plt"
   ]
  },
  {
   "cell_type": "code",
   "execution_count": 39,
   "id": "democratic-generic",
   "metadata": {},
   "outputs": [],
   "source": [
    "def vector_angle(unit_vector_1, unit_vector_2):\n",
    "    unit_vector_1 = vector_1 / np.linalg.norm(vector_1)\n",
    "    unit_vector_2 = vector_2 / np.linalg.norm(vector_2)\n",
    "    dot_product = np.dot(unit_vector_1, unit_vector_2)\n",
    "    return np.arccos(dot_product)"
   ]
  },
  {
   "cell_type": "code",
   "execution_count": 74,
   "id": "hourly-terrace",
   "metadata": {},
   "outputs": [],
   "source": [
    "plt.ioff()\n",
    "\n",
    "def vec(x, y):\n",
    "    return np.array([float(x), float(y)])\n",
    "\n",
    "def polygon(n, radius, rotate=0):\n",
    "    points = []\n",
    "    angle_size = 2 * math.pi / n\n",
    "    for i in range(n):\n",
    "        angle = angle_size * i + math.radians(rotate)\n",
    "        points.append(vec(radius * math.cos(angle), radius * math.sin(angle)))\n",
    "    return np.array(points)\n",
    "\n",
    "def draw_vector(start, end, c):\n",
    "    plt.arrow(start[0], start[1], (end[0]-start[0]), (end[1]-start[1]), fc=c, ec=c,\n",
    "        head_width=0.2, head_length=0.2,length_includes_head=True)\n",
    "\n",
    "def draw_line(p1, p2, c):\n",
    "    plt.plot([p1[0],p2[0]],[p1[1],p2[1]],c+'o-')\n",
    "\n",
    "def draw_point(loc, c):\n",
    "    plt.plot(loc[0], loc[1], c + '.')\n",
    "\n",
    "def draw_polygon(points, c, lines=True):\n",
    "    if lines:\n",
    "        for i in range(len(points)-1):\n",
    "            draw_line(points[i], points[i+1], c)\n",
    "        draw_line(points[0], points[-1], c)\n",
    "    else:\n",
    "        for point in points:\n",
    "            draw_point(point, c)\n",
    "\n",
    "class Plot:\n",
    "    def __init__(self, name=None):\n",
    "        if name:\n",
    "            self.fname = name + '.svg'\n",
    "        else:\n",
    "            self.fname = None\n",
    "\n",
    "    def __enter__(self):\n",
    "        plt.figure(figsize=(8,8))\n",
    "    def __exit__(self, type, value, traceback):\n",
    "        plt.axis((-5,5,-5,5))\n",
    "        plt.gca().axes.get_yaxis().set_visible(False)\n",
    "        plt.gca().axes.get_xaxis().set_visible(False)\n",
    "        plt.gca().axis('off')\n",
    "        plt.gca().set_aspect('equal', adjustable='box')\n",
    "        if self.fname:\n",
    "            plt.savefig(self.fname)\n",
    "        plt.show()\n",
    "        \n",
    "ORIGIN = vec(0, 0)"
   ]
  },
  {
   "cell_type": "code",
   "execution_count": 75,
   "id": "ranging-charm",
   "metadata": {},
   "outputs": [],
   "source": [
    "def perpendicularCCW(vector):\n",
    "    return vec(-vector[1], vector[0])\n",
    "\n",
    "def swerve(module, v, omega, draw=None):\n",
    "    translation_component = v\n",
    "    rotation_component = omega * perpendicularCCW(module)\n",
    "    output = translation_component + rotation_component\n",
    "    if draw:\n",
    "        if 'all' == draw or 't' in draw:\n",
    "            draw_vector(module, module+translation_component, 'b')\n",
    "        if 'all' == draw or 'r' in draw:\n",
    "            draw_vector(module, module+rotation_component, 'r')\n",
    "        if 'all' == draw or 'o' in draw:\n",
    "            draw_vector(module, module+output, 'g')\n",
    "    return output"
   ]
  },
  {
   "cell_type": "code",
   "execution_count": 84,
   "id": "cardiac-personality",
   "metadata": {},
   "outputs": [],
   "source": [
    "def output_mod(i, m, v):\n",
    "    print('Module(' + str(i) + '): ' + str(m) + ' -> ' + str(v))\n",
    "    \n",
    "def draw_swerve(x, y, r):\n",
    "    modules = polygon(4, 3, rotate=45)\n",
    "    with Plot():\n",
    "        draw_polygon(modules, 'k')\n",
    "        draw_vector(ORIGIN, vec(1, 0), 'r')\n",
    "        draw_vector(ORIGIN, vec(0, 1), 'b')\n",
    "        for i, m in enumerate(modules):\n",
    "            v = swerve(m, vec(x, y), r, draw='all')\n",
    "            output_mod(i, m, v)\n",
    "            #print(vector_angle([0, 1], v))\n",
    "            "
   ]
  },
  {
   "cell_type": "code",
   "execution_count": 86,
   "id": "reflected-organic",
   "metadata": {},
   "outputs": [
    {
     "name": "stdout",
     "output_type": "stream",
     "text": [
      "Module(0): [2.12132034 2.12132034] -> [1. 0.]\n",
      "Module(1): [-2.12132034  2.12132034] -> [1. 0.]\n",
      "Module(2): [-2.12132034 -2.12132034] -> [1. 0.]\n",
      "Module(3): [ 2.12132034 -2.12132034] -> [1. 0.]\n"
     ]
    },
    {
     "data": {
      "image/png": "[encoded data removed]",
      "text/plain": [
       "<Figure size 576x576 with 1 Axes>"
      ]
     },
     "metadata": {
      "needs_background": "light"
     },
     "output_type": "display_data"
    }
   ],
   "source": [
    "'''\n",
    "[1]-----[0]\n",
    " |       |\n",
    " |       |\n",
    " |       |\n",
    "[2]-----[3]\n",
    "'''\n",
    "\n",
    "draw_swerve(1, 0, 0)"
   ]
  },
  {
   "cell_type": "code",
   "execution_count": null,
   "id": "single-religion",
   "metadata": {},
   "outputs": [],
   "source": []
  },
  {
   "cell_type": "code",
   "execution_count": null,
   "id": "fluid-dollar",
   "metadata": {},
   "outputs": [],
   "source": []
  }
 ],
 "metadata": {
  "kernelspec": {
   "display_name": "Python 3",
   "language": "python",
   "name": "python3"
  },
  "language_info": {
   "codemirror_mode": {
    "name": "ipython",
    "version": 3
   },
   "file_extension": ".py",
   "mimetype": "text/x-python",
   "name": "python",
   "nbconvert_exporter": "python",
   "pygments_lexer": "ipython3",
   "version": "3.8.7"
  }
 },
 "nbformat": 4,
 "nbformat_minor": 5
}
